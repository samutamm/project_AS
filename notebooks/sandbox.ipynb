{
 "cells": [
  {
   "cell_type": "code",
   "execution_count": null,
   "metadata": {},
   "outputs": [],
   "source": [
    "%load_ext autoreload\n",
    "%autoreload 2\n",
    "\n",
    "import os\n",
    "import sys\n",
    "\n",
    "import torch\n",
    "from torch.optim import SGD\n",
    "from torch import nn\n",
    "\n",
    "## Access src directory from ./notebooks/ folder\n",
    "from pathlib import Path\n",
    "sys.path.append(str(Path('.').absolute().parent))\n",
    "\n",
    "from src.Snip import SNIP\n",
    "from src.tools import n_layer_nn\n",
    "from src.models import ConvNet"
   ]
  },
  {
   "cell_type": "markdown",
   "metadata": {},
   "source": [
    "### Manual test with F-MNIST"
   ]
  },
  {
   "cell_type": "code",
   "execution_count": null,
   "metadata": {},
   "outputs": [],
   "source": [
    "from torchvision.datasets import FashionMNIST\n",
    "import torchvision.transforms as transforms"
   ]
  },
  {
   "cell_type": "code",
   "execution_count": null,
   "metadata": {},
   "outputs": [],
   "source": [
    "batch_size = 64\n",
    "path = '../data/'\n",
    "dataset = FashionMNIST(path, train=True, download=True,\n",
    "                        transform=transforms.Compose([\n",
    "                            transforms.ToTensor()\n",
    "                        ]))\n",
    "data_loader = torch.utils.data.DataLoader(dataset,\n",
    "                        batch_size=batch_size, shuffle=True, num_workers=2)"
   ]
  },
  {
   "cell_type": "code",
   "execution_count": null,
   "metadata": {},
   "outputs": [],
   "source": [
    "model = ConvNet()\n",
    "snip = SNIP(model)\n",
    "C = snip.prune(nn.CrossEntropyLoss(),data_loader, 3)\n",
    "#for elem in C:\n",
    "#    print(elem.shape)\n",
    "#sgd_val_loss, sgd_accuracy = n_layer_nn(SGD, learning_rate=0.1)\n",
    "\n",
    "#C = snip.prune()\n",
    "# to multiply weights by C : https://discuss.pytorch.org/t/how-can-i-modify-certain-layers-weight-and-bias/11638"
   ]
  },
  {
   "cell_type": "code",
   "execution_count": null,
   "metadata": {},
   "outputs": [],
   "source": [
    "C"
   ]
  }
 ],
 "metadata": {
  "kernelspec": {
   "display_name": "Python 3",
   "language": "python",
   "name": "python3"
  },
  "language_info": {
   "codemirror_mode": {
    "name": "ipython",
    "version": 3
   },
   "file_extension": ".py",
   "mimetype": "text/x-python",
   "name": "python",
   "nbconvert_exporter": "python",
   "pygments_lexer": "ipython3",
   "version": "3.6.5"
  }
 },
 "nbformat": 4,
 "nbformat_minor": 2
}
