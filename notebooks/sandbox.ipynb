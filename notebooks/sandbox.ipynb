{
 "cells": [
  {
   "cell_type": "code",
   "execution_count": null,
   "metadata": {},
   "outputs": [],
   "source": [
    "%load_ext autoreload\n",
    "%autoreload 2\n",
    "\n",
    "import os\n",
    "import sys\n",
    "\n",
    "import torch\n",
    "from torch.optim import SGD\n",
    "\n",
    "## Access src directory from ./notebooks/ folder\n",
    "from pathlib import Path\n",
    "sys.path.append(str(Path('.').absolute().parent))\n",
    "\n",
    "from src.Snip import SNIP\n",
    "from src.tools import n_layer_nn"
   ]
  },
  {
   "cell_type": "markdown",
   "metadata": {},
   "source": [
    "### Manual test with MNIST"
   ]
  },
  {
   "cell_type": "code",
   "execution_count": null,
   "metadata": {},
   "outputs": [],
   "source": [
    "#sgd_val_loss, sgd_accuracy = n_layer_nn(SGD, learning_rate=0.1)\n",
    "\n",
    "params = torch.Tensor((3,3))\n",
    "snip = SNIP(params)\n",
    "#C = snip.prune()\n",
    "# to multiply weights by C : https://discuss.pytorch.org/t/how-can-i-modify-certain-layers-weight-and-bias/11638"
   ]
  }
 ],
 "metadata": {
  "kernelspec": {
   "display_name": "Python 3",
   "language": "python",
   "name": "python3"
  },
  "language_info": {
   "codemirror_mode": {
    "name": "ipython",
    "version": 3
   },
   "file_extension": ".py",
   "mimetype": "text/x-python",
   "name": "python",
   "nbconvert_exporter": "python",
   "pygments_lexer": "ipython3",
   "version": "3.6.5"
  }
 },
 "nbformat": 4,
 "nbformat_minor": 2
}
