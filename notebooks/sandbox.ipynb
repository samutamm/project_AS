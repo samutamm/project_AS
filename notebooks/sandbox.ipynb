{
 "cells": [
  {
   "cell_type": "code",
   "execution_count": null,
   "metadata": {},
   "outputs": [],
   "source": [
    "%load_ext autoreload\n",
    "%autoreload 2\n",
    "\n",
    "import os\n",
    "import sys\n",
    "\n",
    "import torch\n",
    "from torch.optim import SGD\n",
    "from torch import nn\n",
    "\n",
    "## Access src directory from ./notebooks/ folder\n",
    "from pathlib import Path\n",
    "sys.path.append(str(Path('.').absolute().parent))\n",
    "\n",
    "from src.Snip import SNIP\n",
    "from src.models import ConvNet\n",
    "from src.optimization import epoch\n",
    "\n",
    "import numpy as np"
   ]
  },
  {
   "cell_type": "markdown",
   "metadata": {},
   "source": [
    "### Manual test with F-MNIST"
   ]
  },
  {
   "cell_type": "code",
   "execution_count": null,
   "metadata": {},
   "outputs": [],
   "source": [
    "from torchvision.datasets import FashionMNIST\n",
    "import torchvision.transforms as transforms"
   ]
  },
  {
   "cell_type": "markdown",
   "metadata": {},
   "source": [
    "# Prepare dataloaders"
   ]
  },
  {
   "cell_type": "code",
   "execution_count": null,
   "metadata": {},
   "outputs": [],
   "source": [
    "pruning_batch_size = 128\n",
    "batch_size = 64\n",
    "path = '../data/'\n",
    "data_transforms = transforms.Compose([\n",
    "    transforms.ToTensor()\n",
    "])\n",
    "train_dataset = FashionMNIST(path, train=True, download=True,transform=data_transforms)\n",
    "test_dataset = FashionMNIST(path, train=False, download=True,transform=data_transforms)\n",
    "pruning_data_loader = torch.utils.data.DataLoader(train_dataset,\n",
    "                        batch_size=pruning_batch_size, shuffle=True, num_workers=2)\n",
    "\n",
    "train_data_loader = torch.utils.data.DataLoader(train_dataset,\n",
    "                        batch_size=batch_size, shuffle=True, num_workers=2)\n",
    "test_data_loader = torch.utils.data.DataLoader(test_dataset,\n",
    "                        batch_size=batch_size, shuffle=True, num_workers=2)"
   ]
  },
  {
   "cell_type": "markdown",
   "metadata": {},
   "source": [
    "# Execute pruning\n",
    "For given model, execute SNIP pruning using one batch of 128 examples. K is the number of connections to keep."
   ]
  },
  {
   "cell_type": "code",
   "execution_count": null,
   "metadata": {},
   "outputs": [],
   "source": [
    "model = ConvNet()\n",
    "snip = SNIP(model)\n",
    "C, mapping = snip.compute_mask(pruning_data_loader, K=1000)"
   ]
  },
  {
   "cell_type": "markdown",
   "metadata": {},
   "source": [
    "# Train the model\n",
    "In the beginning of each batch, use pruning to force the connections to zero."
   ]
  },
  {
   "cell_type": "code",
   "execution_count": null,
   "metadata": {},
   "outputs": [],
   "source": [
    "epochs = 30\n",
    "#lr = 1e-5\n",
    "\n",
    "criterion = nn.CrossEntropyLoss()\n",
    "optimizer = torch.optim.Adam(model.parameters())\n",
    "#lr_sched = torch.optim.lr_scheduler.ExponentialLR(optimizer, gamma=0.95)\n",
    "\n",
    "model = model.cuda()\n",
    "criterion = criterion.cuda()\n",
    "\n",
    "# On itère sur les epochs\n",
    "for i in range(epochs):\n",
    "    print(\"=================\\n=== EPOCH \"+str(i+1)+\" =====\\n=================\\n\")\n",
    "    # Phase de train\n",
    "    acc, loss = epoch(train_data_loader, model, criterion,snip_pruning=snip, optimizer=optimizer)\n",
    "    # Phase d'evaluation\n",
    "    with torch.no_grad():\n",
    "        acc_test, loss_test = epoch(test_data_loader, model, criterion)\n",
    "    # plot\n",
    "    #plot.update(loss.avg, loss_test.avg, top1_acc.avg, top1_acc_test.avg)"
   ]
  }
 ],
 "metadata": {
  "kernelspec": {
   "display_name": "Python 3",
   "language": "python",
   "name": "python3"
  },
  "language_info": {
   "codemirror_mode": {
    "name": "ipython",
    "version": 3
   },
   "file_extension": ".py",
   "mimetype": "text/x-python",
   "name": "python",
   "nbconvert_exporter": "python",
   "pygments_lexer": "ipython3",
   "version": "3.6.5"
  }
 },
 "nbformat": 4,
 "nbformat_minor": 2
}
