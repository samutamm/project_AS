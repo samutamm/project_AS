{
 "cells": [
  {
   "cell_type": "code",
   "execution_count": 1,
   "metadata": {},
   "outputs": [],
   "source": [
    "# %load_ext autoreload\n",
    "# %autoreload 2\n",
    "\n",
    "import os\n",
    "import sys\n",
    "\n",
    "import torch\n",
    "from torch.optim import SGD\n",
    "from torch import nn\n",
    "\n",
    "## Access src directory from ./notebooks/ folder\n",
    "from pathlib import Path\n",
    "sys.path.append(str(Path('.').absolute().parent))\n",
    "\n",
    "from src.Snip_copy import SNIP\n",
    "from src.models.AlexNet_s import AlexNet_s\n",
    "from src.optimization import epoch\n",
    "\n",
    "import numpy as np\n",
    "import matplotlib.pyplot as plt"
   ]
  },
  {
   "cell_type": "code",
   "execution_count": null,
   "metadata": {},
   "outputs": [],
   "source": [
    "device = torch.device(\"cuda:0\" if torch.cuda.is_available() else \"cpu\")"
   ]
  },
  {
   "cell_type": "code",
   "execution_count": null,
   "metadata": {},
   "outputs": [],
   "source": [
    "import torchvision\n",
    "from torchvision.datasets import CIFAR10\n",
    "import torchvision.transforms as transforms"
   ]
  },
  {
   "cell_type": "code",
   "execution_count": null,
   "metadata": {},
   "outputs": [],
   "source": [
    "# Data\n",
    "print('==> Preparing data..')\n",
    "transform_train = transforms.Compose([\n",
    "    transforms.RandomCrop(32, padding=4),\n",
    "    transforms.RandomHorizontalFlip(),\n",
    "    transforms.ToTensor(),\n",
    "    transforms.Normalize((0.4914, 0.4822, 0.4465), (0.2023, 0.1994, 0.2010)),\n",
    "])\n",
    "\n",
    "transform_test = transforms.Compose([\n",
    "    transforms.ToTensor(),\n",
    "    transforms.Normalize((0.4914, 0.4822, 0.4465), (0.2023, 0.1994, 0.2010)),\n",
    "])\n",
    "\n",
    "trainset = torchvision.datasets.CIFAR10(root='./data', train=True, download=True, transform=transform_train)\n",
    "train_data_loader = torch.utils.data.DataLoader(trainset, batch_size=128, shuffle=True, num_workers=2)\n",
    "\n",
    "testset = torchvision.datasets.CIFAR10(root='./data', train=False, download=True, transform=transform_test)\n",
    "test_data_loader = torch.utils.data.DataLoader(testset, batch_size=100, shuffle=False, num_workers=2)"
   ]
  },
  {
   "cell_type": "code",
   "execution_count": null,
   "metadata": {},
   "outputs": [],
   "source": [
    "def train_model(model, snip = None, epochs = 20):\n",
    "\n",
    "    criterion = nn.CrossEntropyLoss()\n",
    "    optimizer = torch.optim.Adam(model.parameters(),lr=0.001)\n",
    "    scheduler = torch.optim.lr_scheduler.MultiStepLR(optimizer, milestones=[75, 150], gamma=0.5)\n",
    "\n",
    "    model = model.cuda()\n",
    "    criterion = criterion.cuda()\n",
    "    \n",
    "    if snip:\n",
    "        hooks = snip.register_masks()\n",
    "        assert snip.K == snip.get_nonzero_param_number()\n",
    "\n",
    "    train_losses = []\n",
    "    test_losses = []\n",
    "    accuracys = []\n",
    "    # On itère sur les epochs\n",
    "    for i in range(epochs):\n",
    "        print(\"=================\\n=== EPOCH \"+str(i+1)+\" =====\\n=================\\n\")\n",
    "        # Phase de train\n",
    "        _, loss = epoch(train_data_loader, model, criterion,snip_pruning=snip, optimizer=optimizer)\n",
    "        # Phase d'evaluation\n",
    "        with torch.no_grad():\n",
    "            acc_test, loss_test = epoch(test_data_loader, model, criterion)\n",
    "\n",
    "        train_losses.append(loss.avg)\n",
    "        test_losses.append(loss_test.avg)\n",
    "        accuracys.append(acc_test.avg)\n",
    "\n",
    "    if snip:\n",
    "        for hook in hooks:\n",
    "            hook.remove()\n",
    "        nonzero_params = snip.get_nonzero_param_number()\n",
    "        print(nonzero_params)\n",
    "        assert snip.K == nonzero_params\n",
    "\n",
    "    return train_losses, test_losses, accuracys\n",
    "\n",
    "def print_losses_and_acc(training_losses_, test_losses_, acc_):\n",
    "    plt.title(\"L'erreur moyenne d'un batch\")\n",
    "    plt.plot(np.arange(len(training_losses_)), training_losses_, label=\"Train\")\n",
    "    plt.plot(np.arange(len(test_losses_)), test_losses_, label=\"Test\")\n",
    "    plt.ylabel(\"L'erreur\")\n",
    "    plt.xlabel('Epochs')\n",
    "    plt.legend()\n",
    "    plt.figure()\n",
    "    plt.plot(np.arange(len(acc_)), acc_)\n",
    "    plt.show()"
   ]
  },
  {
   "cell_type": "code",
   "execution_count": null,
   "metadata": {},
   "outputs": [],
   "source": [
    "import time\n",
    "for i in range(10):\n",
    "    original_model = AlexNet_s()\n",
    "    train_losses, test_losses, accuracys  = train_model(original_model)\n",
    "    pkl.dump([train_losses, test_losses, accuracys], open('org-alexnet-cifar-'+str(i)+'.pkl', 'wb'))\n",
    "    time.sleep(120)"
   ]
  },
  {
   "cell_type": "code",
   "execution_count": null,
   "metadata": {},
   "outputs": [],
   "source": [
    "print_losses_and_acc(train_losses, test_losses, accuracys)"
   ]
  },
  {
   "cell_type": "code",
   "execution_count": null,
   "metadata": {},
   "outputs": [],
   "source": [
    "prune_model = AlexNet_s()\n",
    "snip = SNIP(prune_model)\n",
    "total_param_number = snip.get_total_param_number()\n",
    "print(\"Original number of params : {}\".format(total_param_number))\n",
    "K = total_param_number // 10\n",
    "print(\"10% of params : {}\".format(K))\n",
    "C_masks = snip.compute_mask(train_data_loader, K=K)\n",
    "\n",
    "train_losses, test_losses, accuracys  = train_model(prune_model, snip);"
   ]
  },
  {
   "cell_type": "code",
   "execution_count": null,
   "metadata": {},
   "outputs": [],
   "source": [
    "print_losses_and_acc(train_losses, test_losses, accuracys)"
   ]
  },
  {
   "cell_type": "code",
   "execution_count": null,
   "metadata": {},
   "outputs": [],
   "source": [
    "import pickle as pkl\n",
    "pkl.dump([train_losses, test_losses, accuracys], open('10% alexnet-cifar-10.pkl', 'wb'))"
   ]
  }
 ],
 "metadata": {
  "kernelspec": {
   "display_name": "Python 3",
   "language": "python",
   "name": "python3"
  },
  "language_info": {
   "codemirror_mode": {
    "name": "ipython",
    "version": 3
   },
   "file_extension": ".py",
   "mimetype": "text/x-python",
   "name": "python",
   "nbconvert_exporter": "python",
   "pygments_lexer": "ipython3",
   "version": "3.6.6"
  }
 },
 "nbformat": 4,
 "nbformat_minor": 2
}
