{
 "cells": [
  {
   "cell_type": "code",
   "execution_count": null,
   "metadata": {},
   "outputs": [],
   "source": [
    "%load_ext autoreload\n",
    "%autoreload 2\n",
    "\n",
    "import os\n",
    "import sys\n",
    "\n",
    "import torch\n",
    "from torch import nn\n",
    "\n",
    "## Access src directory from ./notebooks/ folder\n",
    "from pathlib import Path\n",
    "sys.path.append(str(Path('.').absolute().parent))\n",
    "\n",
    "from src.Snip import SNIP\n",
    "from src.models.LeNet import LeNet300100, LeNet5Caffe\n",
    "from src.optimization import MeanEvaluator\n",
    "\n",
    "import numpy as np\n",
    "import matplotlib.pyplot as plt\n",
    "\n",
    "from torchvision.datasets import MNIST, CIFAR10\n",
    "import torchvision.transforms as transforms"
   ]
  },
  {
   "cell_type": "code",
   "execution_count": null,
   "metadata": {},
   "outputs": [],
   "source": [
    "prune_model = LeNet5Caffe()\n",
    "snip = SNIP(prune_model)\n",
    "total_param_number = snip.get_total_param_number()\n",
    "print(total_param_number)"
   ]
  },
  {
   "cell_type": "code",
   "execution_count": null,
   "metadata": {},
   "outputs": [],
   "source": [
    "del evaluator"
   ]
  },
  {
   "cell_type": "code",
   "execution_count": null,
   "metadata": {},
   "outputs": [],
   "source": [
    "evaluator = MeanEvaluator(model_class = LeNet5Caffe,\n",
    "                         dataset = MNIST,\n",
    "                         eval_n = 10,\n",
    "                         epochs = 20,\n",
    "                         pruning_ratio = 0.02)\n",
    "\n",
    "#baseline_score = evaluator.evaluate_baseline()\n",
    "#print(baseline_score)\n",
    "\n",
    "snip_score = evaluator.evaluate_pruned_model()\n",
    "print(1 - snip_score[0])\n",
    "\n",
    "#diff = baseline_score - snip_score\n",
    "#print(diff)"
   ]
  },
  {
   "cell_type": "code",
   "execution_count": null,
   "metadata": {},
   "outputs": [],
   "source": [
    "evaluator = MeanEvaluator(model_class = LeNet5Caffe,\n",
    "                         dataset = MNIST,\n",
    "                         eval_n = 10,\n",
    "                         epochs = 20,\n",
    "                         pruning_ratio = 0.01)\n",
    "\n",
    "#baseline_score = evaluator.evaluate_baseline()\n",
    "#print(baseline_score)\n",
    "\n",
    "snip_score = evaluator.evaluate_pruned_model()\n",
    "print(snip_score)"
   ]
  },
  {
   "cell_type": "code",
   "execution_count": null,
   "metadata": {},
   "outputs": [],
   "source": [
    "evaluator = MeanEvaluator(model_class = LeNet300100,\n",
    "                         dataset = MNIST,\n",
    "                         eval_n = 10,\n",
    "                         epochs = 15,\n",
    "                         pruning_ratio = 0.02)\n",
    "\n",
    "#baseline_score = evaluator.evaluate_baseline()\n",
    "#print(baseline_score)\n",
    "\n",
    "snip_score = evaluator.evaluate_pruned_model()\n",
    "print(snip_score)"
   ]
  },
  {
   "cell_type": "code",
   "execution_count": null,
   "metadata": {},
   "outputs": [],
   "source": [
    "evaluator = MeanEvaluator(model_class = LeNet300100,\n",
    "                         dataset = MNIST,\n",
    "                         eval_n = 10,\n",
    "                         epochs = 15,\n",
    "                         pruning_ratio = 0.05)\n",
    "\n",
    "#baseline_score = evaluator.evaluate_baseline()\n",
    "#print(baseline_score)\n",
    "\n",
    "snip_score = evaluator.evaluate_pruned_model()\n",
    "print(1 - snip_score[0])"
   ]
  }
 ],
 "metadata": {
  "kernelspec": {
   "display_name": "Python 3",
   "language": "python",
   "name": "python3"
  },
  "language_info": {
   "codemirror_mode": {
    "name": "ipython",
    "version": 3
   },
   "file_extension": ".py",
   "mimetype": "text/x-python",
   "name": "python",
   "nbconvert_exporter": "python",
   "pygments_lexer": "ipython3",
   "version": "3.6.5"
  }
 },
 "nbformat": 4,
 "nbformat_minor": 2
}
