{
 "cells": [
  {
   "cell_type": "code",
   "execution_count": 20,
   "metadata": {},
   "outputs": [
    {
     "name": "stdout",
     "output_type": "stream",
     "text": [
      "The autoreload extension is already loaded. To reload it, use:\n",
      "  %reload_ext autoreload\n"
     ]
    }
   ],
   "source": [
    "%load_ext autoreload\n",
    "%autoreload 2\n",
    "\n",
    "import os\n",
    "import sys\n",
    "\n",
    "import torch\n",
    "from torch import nn\n",
    "\n",
    "## Access src directory from ./notebooks/ folder\n",
    "from pathlib import Path\n",
    "sys.path.append(str(Path('.').absolute().parent))\n",
    "\n",
    "from src.Snip_copy import SNIP\n",
    "from src.models.LeNet import LeNet300100, LeNet5Caffe\n",
    "from src.optimization import MeanEvaluator\n",
    "\n",
    "import numpy as np\n",
    "import matplotlib.pyplot as plt\n",
    "\n",
    "from torchvision.datasets import MNIST, CIFAR10\n",
    "import torchvision.transforms as transforms"
   ]
  },
  {
   "cell_type": "code",
   "execution_count": 11,
   "metadata": {},
   "outputs": [
    {
     "name": "stdout",
     "output_type": "stream",
     "text": [
      "431080\n"
     ]
    }
   ],
   "source": [
    "prune_model = LeNet5Caffe()\n",
    "snip = SNIP(prune_model)\n",
    "total_param_number = snip.get_total_param_number()\n",
    "print(total_param_number)"
   ]
  },
  {
   "cell_type": "code",
   "execution_count": 26,
   "metadata": {},
   "outputs": [],
   "source": [
    "del evaluator"
   ]
  },
  {
   "cell_type": "code",
   "execution_count": 25,
   "metadata": {},
   "outputs": [
    {
     "name": "stdout",
     "output_type": "stream",
     "text": [
      "test : 0, score : 0.9876999999999991, min test loss : 0.03830104238120839\n",
      "test : 1, score : 0.9880999999999998, min test loss : 0.03807219776324928\n",
      "test : 2, score : 0.9839999999999997, min test loss : 0.052124487766996026\n",
      "test : 3, score : 0.9860999999999994, min test loss : 0.04581437685061246\n",
      "test : 4, score : 0.9866999999999997, min test loss : 0.04368935279548168\n",
      "0.01348000000000038\n"
     ]
    }
   ],
   "source": [
    "evaluator = MeanEvaluator(model_class = LeNet5Caffe,\n",
    "                         dataset = MNIST,\n",
    "                         eval_n = 5,\n",
    "                         epochs = 80,\n",
    "                         pruning_ratio = 0.02)\n",
    "\n",
    "#baseline_score = evaluator.evaluate_baseline()\n",
    "#print(baseline_score)\n",
    "\n",
    "snip_score = evaluator.evaluate_pruned_model()\n",
    "print(1 - snip_score[0])\n",
    "\n",
    "#diff = baseline_score - snip_score\n",
    "#print(diff)"
   ]
  },
  {
   "cell_type": "code",
   "execution_count": 22,
   "metadata": {},
   "outputs": [
    {
     "data": {
      "text/plain": [
       "(0.9917499999999996, 0.02662304106808733)"
      ]
     },
     "execution_count": 22,
     "metadata": {},
     "output_type": "execute_result"
    }
   ],
   "source": [
    "snip_score"
   ]
  },
  {
   "cell_type": "code",
   "execution_count": 27,
   "metadata": {},
   "outputs": [
    {
     "name": "stdout",
     "output_type": "stream",
     "text": [
      "test : 0, score : 0.9864999999999994, min test loss : 0.043659185408614576\n",
      "test : 1, score : 0.9884000000000001, min test loss : 0.04148324088193476\n",
      "test : 2, score : 0.9860999999999995, min test loss : 0.043869256847538056\n",
      "test : 3, score : 0.9885999999999996, min test loss : 0.03881445086095482\n",
      "test : 4, score : 0.9882999999999995, min test loss : 0.038635430734138936\n",
      "(0.9875799999999997, 0.04129231294663623)\n"
     ]
    }
   ],
   "source": [
    "evaluator = MeanEvaluator(model_class = LeNet5Caffe,\n",
    "                         dataset = MNIST,\n",
    "                         eval_n = 5,\n",
    "                         epochs = 80,\n",
    "                         pruning_ratio = 0.01)\n",
    "\n",
    "#baseline_score = evaluator.evaluate_baseline()\n",
    "#print(baseline_score)\n",
    "\n",
    "snip_score = evaluator.evaluate_pruned_model()\n",
    "print(snip_score)"
   ]
  },
  {
   "cell_type": "code",
   "execution_count": 28,
   "metadata": {},
   "outputs": [
    {
     "data": {
      "text/plain": [
       "0.01242000000000032"
      ]
     },
     "execution_count": 28,
     "metadata": {},
     "output_type": "execute_result"
    }
   ],
   "source": [
    "1 - snip_score[0]"
   ]
  },
  {
   "cell_type": "code",
   "execution_count": 29,
   "metadata": {},
   "outputs": [
    {
     "name": "stdout",
     "output_type": "stream",
     "text": [
      "test : 0, score : 0.9678999999999999, min test loss : 0.10866999808698892\n",
      "test : 1, score : 0.9698999999999994, min test loss : 0.10280674444511533\n",
      "test : 2, score : 0.9699999999999999, min test loss : 0.10043874427676201\n",
      "test : 3, score : 0.9672999999999995, min test loss : 0.1067188354767859\n",
      "test : 4, score : 0.9685999999999996, min test loss : 0.10944694072008133\n",
      "(0.9687399999999997, 0.10561625260114671)\n"
     ]
    },
    {
     "data": {
      "text/plain": [
       "0.03126000000000029"
      ]
     },
     "execution_count": 29,
     "metadata": {},
     "output_type": "execute_result"
    }
   ],
   "source": [
    "evaluator = MeanEvaluator(model_class = LeNet300100,\n",
    "                         dataset = MNIST,\n",
    "                         eval_n = 5,\n",
    "                         epochs = 80,\n",
    "                         pruning_ratio = 0.02)\n",
    "\n",
    "#baseline_score = evaluator.evaluate_baseline()\n",
    "#print(baseline_score)\n",
    "\n",
    "snip_score = evaluator.evaluate_pruned_model()\n",
    "print(snip_score)\n",
    "1 - snip_score[0]"
   ]
  },
  {
   "cell_type": "code",
   "execution_count": 30,
   "metadata": {},
   "outputs": [
    {
     "name": "stdout",
     "output_type": "stream",
     "text": [
      "test : 0, score : 0.9789999999999993, min test loss : 0.07205439137294889\n",
      "test : 1, score : 0.9792999999999994, min test loss : 0.07152889569289983\n",
      "test : 2, score : 0.9797999999999994, min test loss : 0.06811615072190762\n",
      "test : 3, score : 0.9793999999999996, min test loss : 0.07054754856042564\n",
      "test : 4, score : 0.9779999999999995, min test loss : 0.07083263730630279\n",
      "0.020900000000000474\n"
     ]
    }
   ],
   "source": [
    "evaluator = MeanEvaluator(model_class = LeNet300100,\n",
    "                         dataset = MNIST,\n",
    "                         eval_n = 5,\n",
    "                         epochs = 80,\n",
    "                         pruning_ratio = 0.05)\n",
    "\n",
    "#baseline_score = evaluator.evaluate_baseline()\n",
    "#print(baseline_score)\n",
    "\n",
    "snip_score = evaluator.evaluate_pruned_model()\n",
    "print(1 - snip_score[0])"
   ]
  }
 ],
 "metadata": {
  "kernelspec": {
   "display_name": "Python 3",
   "language": "python",
   "name": "python3"
  },
  "language_info": {
   "codemirror_mode": {
    "name": "ipython",
    "version": 3
   },
   "file_extension": ".py",
   "mimetype": "text/x-python",
   "name": "python",
   "nbconvert_exporter": "python",
   "pygments_lexer": "ipython3",
   "version": "3.6.5"
  }
 },
 "nbformat": 4,
 "nbformat_minor": 2
}
