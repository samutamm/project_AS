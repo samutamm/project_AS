{
 "cells": [
  {
   "cell_type": "code",
   "execution_count": 25,
   "metadata": {},
   "outputs": [
    {
     "name": "stdout",
     "output_type": "stream",
     "text": [
      "The autoreload extension is already loaded. To reload it, use:\n",
      "  %reload_ext autoreload\n"
     ]
    }
   ],
   "source": [
    "%load_ext autoreload\n",
    "%autoreload 2\n",
    "\n",
    "import os\n",
    "import sys\n",
    "\n",
    "import torch\n",
    "from torch import nn\n",
    "\n",
    "## Access src directory from ./notebooks/ folder\n",
    "from pathlib import Path\n",
    "sys.path.append(str(Path('.').absolute().parent))\n",
    "\n",
    "from src.Snip import SNIP\n",
    "from src.models.LeNet import LeNet300100, LeNet5Caffe\n",
    "from src.optimization import MeanEvaluator\n",
    "\n",
    "import numpy as np\n",
    "import matplotlib.pyplot as plt\n",
    "\n",
    "from torchvision.datasets import MNIST\n",
    "import torchvision.transforms as transforms"
   ]
  },
  {
   "cell_type": "code",
   "execution_count": null,
   "metadata": {},
   "outputs": [
    {
     "name": "stdout",
     "output_type": "stream",
     "text": [
      "iteration : 0, score : 0.9917396496815286\n",
      "iteration : 1, score : 0.9930334394904459\n",
      "iteration : 2, score : 0.9924363057324841\n",
      "iteration : 3, score : 0.9926353503184714\n",
      "iteration : 4, score : 0.9929339171974523\n",
      "iteration : 5, score : 0.9926353503184714\n",
      "iteration : 6, score : 0.9931329617834395\n",
      "iteration : 7, score : 0.9923367834394905\n",
      "iteration : 8, score : 0.992734872611465\n",
      "iteration : 9, score : 0.9923367834394905\n",
      "iteration : 10, score : 0.9929339171974523\n",
      "iteration : 11, score : 0.9932324840764332\n",
      "iteration : 12, score : 0.9932324840764332\n",
      "iteration : 13, score : 0.9915406050955414\n",
      "iteration : 14, score : 0.9920382165605095\n",
      "iteration : 15, score : 0.9921377388535032\n",
      "iteration : 16, score : 0.9921377388535032\n",
      "iteration : 17, score : 0.9923367834394905\n",
      "iteration : 18, score : 0.9921377388535032\n",
      "iteration : 19, score : 0.9923367834394905\n",
      "0.9925009952229301\n",
      "8621\n",
      "iteration : 0, score : 0.9804936305732485\n",
      "8621\n",
      "iteration : 1, score : 0.9871616242038217\n",
      "8621\n",
      "iteration : 2, score : 0.9849721337579618\n",
      "8621\n",
      "iteration : 3, score : 0.9828821656050956\n",
      "8621\n",
      "iteration : 4, score : 0.9814888535031847\n",
      "8621\n",
      "iteration : 5, score : 0.9827826433121019\n",
      "8621\n",
      "iteration : 6, score : 0.9811902866242038\n",
      "8621\n",
      "iteration : 7, score : 0.9861664012738853\n",
      "8621\n",
      "iteration : 8, score : 0.9821855095541401\n",
      "8621\n",
      "iteration : 9, score : 0.9840764331210191\n",
      "8621\n",
      "iteration : 10, score : 0.9841759554140127\n",
      "8621\n",
      "iteration : 11, score : 0.984375\n",
      "8621\n",
      "iteration : 12, score : 0.9841759554140127\n",
      "8621\n",
      "iteration : 13, score : 0.9806926751592356\n",
      "8621\n",
      "iteration : 14, score : 0.9846735668789809\n",
      "8621\n",
      "iteration : 15, score : 0.9840764331210191\n",
      "8621\n",
      "iteration : 16, score : 0.9847730891719745\n"
     ]
    }
   ],
   "source": [
    "evaluator = MeanEvaluator(model_class = LeNet5Caffe,\n",
    "                         dataset = MNIST,\n",
    "                         eval_n = 20,\n",
    "                         epochs = 10,\n",
    "                         pruning_ratio = 0.02)\n",
    "\n",
    "baseline_score = evaluator.evaluate_baseline()\n",
    "print(baseline_score)\n",
    "\n",
    "snip_score = evaluator.evaluate_pruned_model()\n",
    "print(snip_score)\n",
    "\n",
    "diff = baseline_score - snip_score\n",
    "print(diff)"
   ]
  }
 ],
 "metadata": {
  "kernelspec": {
   "display_name": "Python 3",
   "language": "python",
   "name": "python3"
  },
  "language_info": {
   "codemirror_mode": {
    "name": "ipython",
    "version": 3
   },
   "file_extension": ".py",
   "mimetype": "text/x-python",
   "name": "python",
   "nbconvert_exporter": "python",
   "pygments_lexer": "ipython3",
   "version": "3.6.5"
  }
 },
 "nbformat": 4,
 "nbformat_minor": 2
}
